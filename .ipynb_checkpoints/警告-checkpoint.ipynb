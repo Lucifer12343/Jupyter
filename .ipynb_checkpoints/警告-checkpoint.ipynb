{
 "cells": [
  {
   "cell_type": "code",
   "execution_count": 1,
   "metadata": {
    "collapsed": true
   },
   "outputs": [],
   "source": [
    "#出现了一些需要让用户知道的问题，\n",
    "#但又不想停止程序，这时候我们可以使用警告：\n",
    "\n",
    "#首先导入警告模块："
   ]
  },
  {
   "cell_type": "code",
   "execution_count": 2,
   "metadata": {
    "collapsed": true
   },
   "outputs": [],
   "source": [
    "import warnings"
   ]
  },
  {
   "cell_type": "code",
   "execution_count": 3,
   "metadata": {},
   "outputs": [
    {
     "name": "stderr",
     "output_type": "stream",
     "text": [
      "H:\\ToolPrograms\\Anaconda\\lib\\site-packages\\ipykernel_launcher.py:7: RuntimeWarning: month (13) is not between 1 and 12\n",
      "  import sys\n"
     ]
    }
   ],
   "source": [
    "#在需要的地方，我们使用 warnings 中的 warn 函数：\n",
    "#warn(msg, WarningType = UserWarning)\n",
    "\n",
    "def month_warning(m):\n",
    "    if not 1<= m <= 12:\n",
    "        msg = \"month (%d) is not between 1 and 12\" % m\n",
    "        warnings.warn(msg, RuntimeWarning)\n",
    "month_warning(13)"
   ]
  },
  {
   "cell_type": "code",
   "execution_count": 4,
   "metadata": {
    "collapsed": true
   },
   "outputs": [],
   "source": [
    "#有时候我们想要忽略特定类型的警告，\n",
    "#可以使用 warnings 的 filterwarnings 函数：\n",
    "#filterwarnings(action, category)\n",
    "warnings.filterwarnings(action = 'ignore' , category = RuntimeWarning)\n",
    "\n",
    "month_warning(13)"
   ]
  },
  {
   "cell_type": "code",
   "execution_count": null,
   "metadata": {
    "collapsed": true
   },
   "outputs": [],
   "source": []
  }
 ],
 "metadata": {
  "kernelspec": {
   "display_name": "Python 3",
   "language": "python",
   "name": "python3"
  },
  "language_info": {
   "codemirror_mode": {
    "name": "ipython",
    "version": 3
   },
   "file_extension": ".py",
   "mimetype": "text/x-python",
   "name": "python",
   "nbconvert_exporter": "python",
   "pygments_lexer": "ipython3",
   "version": "3.6.4"
  }
 },
 "nbformat": 4,
 "nbformat_minor": 2
}
