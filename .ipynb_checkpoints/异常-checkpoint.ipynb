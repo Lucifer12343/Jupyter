{
 "cells": [
  {
   "cell_type": "code",
   "execution_count": 9,
   "metadata": {},
   "outputs": [
    {
     "name": "stdout",
     "output_type": "stream",
     "text": [
      ">a\n"
     ]
    },
    {
     "ename": "ValueError",
     "evalue": "could not convert string to float: 'a'",
     "output_type": "error",
     "traceback": [
      "\u001b[1;31m---------------------------------------------------------------------------\u001b[0m",
      "\u001b[1;31mValueError\u001b[0m                                Traceback (most recent call last)",
      "\u001b[1;32m<ipython-input-9-c7ca5ac04926>\u001b[0m in \u001b[0;36m<module>\u001b[1;34m()\u001b[0m\n\u001b[0;32m      7\u001b[0m     \u001b[1;32mif\u001b[0m \u001b[1;33m(\u001b[0m\u001b[0mtext\u001b[0m \u001b[1;33m==\u001b[0m\u001b[1;34m'q'\u001b[0m\u001b[1;33m)\u001b[0m\u001b[1;33m:\u001b[0m\u001b[1;33m\u001b[0m\u001b[0m\n\u001b[0;32m      8\u001b[0m         \u001b[1;32mbreak\u001b[0m\u001b[1;33m;\u001b[0m\u001b[1;33m\u001b[0m\u001b[0m\n\u001b[1;32m----> 9\u001b[1;33m     \u001b[0mx\u001b[0m \u001b[1;33m=\u001b[0m \u001b[0mfloat\u001b[0m\u001b[1;33m(\u001b[0m\u001b[0mtext\u001b[0m\u001b[1;33m)\u001b[0m\u001b[1;33m\u001b[0m\u001b[0m\n\u001b[0m\u001b[0;32m     10\u001b[0m     \u001b[0my\u001b[0m \u001b[1;33m=\u001b[0m \u001b[0mmath\u001b[0m\u001b[1;33m.\u001b[0m\u001b[0mlog10\u001b[0m\u001b[1;33m(\u001b[0m\u001b[0mx\u001b[0m\u001b[1;33m)\u001b[0m\u001b[1;33m\u001b[0m\u001b[0m\n\u001b[0;32m     11\u001b[0m \u001b[1;33m\u001b[0m\u001b[0m\n",
      "\u001b[1;31mValueError\u001b[0m: could not convert string to float: 'a'"
     ]
    }
   ],
   "source": [
    "#在下面这个例子中输入参数是有范围的\n",
    "#当我们输入x值为0 或负数的时候就会出错误，抛出异常\n",
    "import math\n",
    "\n",
    "while True:\n",
    "    text = input('>');\n",
    "    if (text =='q'):\n",
    "        break;\n",
    "    x = float(text)\n",
    "    y = math.log10(x)\n",
    "    \n",
    "    print('log10({0}) = {1} '.format(x,y))"
   ]
  },
  {
   "cell_type": "code",
   "execution_count": 8,
   "metadata": {},
   "outputs": [
    {
     "name": "stdout",
     "output_type": "stream",
     "text": [
      ">a\n",
      "input value must greater than 0!\n",
      ">q\n"
     ]
    }
   ],
   "source": [
    "#一个严谨的程序必须要考虑到可能出现的错误\n",
    "#，使用异常处理\n",
    "import math\n",
    "\n",
    "while True:\n",
    "    try:\n",
    "        text = input('>');\n",
    "        if (text =='q'):\n",
    "            break;\n",
    "        x = float(text);\n",
    "        y = math.log10(x);\n",
    "        print('log10({0}) = {1} '.format(x,y));\n",
    "    except ValueError:\n",
    "        print(\"input value must greater than 0!\")\n",
    "    "
   ]
  },
  {
   "cell_type": "code",
   "execution_count": 13,
   "metadata": {},
   "outputs": [
    {
     "name": "stdout",
     "output_type": "stream",
     "text": [
      ">1\n",
      "input value mustn't be 1!\n",
      ">q\n"
     ]
    }
   ],
   "source": [
    "import math\n",
    "#当输入为1的时候发生了除零错误,这时\n",
    "#ValueError就不能被except处理了\n",
    "while True:\n",
    "    try:\n",
    "        text = input('>');\n",
    "        if (text =='q'):\n",
    "            break;\n",
    "        x = float(text);\n",
    "        y =1/ math.log10(x);\n",
    "        print('log10({0}) = {1} '.format(x,y));\n",
    "    except ValueError:\n",
    "        print(\"input value must greater than 0!\")\n",
    "    except ZeroDivisionError:\n",
    "        print(\"input value mustn't be 1!\")"
   ]
  },
  {
   "cell_type": "code",
   "execution_count": 14,
   "metadata": {},
   "outputs": [
    {
     "name": "stdout",
     "output_type": "stream",
     "text": [
      ">a\n",
      "input value must greater than 0!\n",
      ">q\n"
     ]
    }
   ],
   "source": [
    "#Exception类代表所有的异常\n",
    "#ValueError是不具体的异常\n",
    "while True:\n",
    "    try:\n",
    "        text = input('>');\n",
    "        if (text =='q'):\n",
    "            break;\n",
    "        x = float(text);\n",
    "        y =1/ math.log10(x);\n",
    "        print('log10({0}) = {1} '.format(x,y));\n",
    "    except ValueError:\n",
    "        print(\"input value must greater than 0!\")\n",
    "    except ZeroDivisionError:\n",
    "        print(\"input value mustn't be 1!\")\n",
    "    except Exception:\n",
    "        print(\"Other Exception\")"
   ]
  },
  {
   "cell_type": "code",
   "execution_count": 2,
   "metadata": {},
   "outputs": [
    {
     "name": "stdout",
     "output_type": "stream",
     "text": [
      ">-1\n",
      "math domain error\n",
      ">1\n",
      "input value mustn't be 1!\n",
      ">0\n",
      "math domain error\n",
      ">a\n",
      "could not convert string to float: 'a'\n",
      ">q\n"
     ]
    }
   ],
   "source": [
    "#Exception类代表所有的异常\n",
    "#ValueError是不具体的异常,我们是可以具体化的\n",
    "import math\n",
    "while True:\n",
    "    try:\n",
    "        text = input('>');\n",
    "        if (text =='q'):\n",
    "            break;\n",
    "        x = float(text);\n",
    "        y =1/ math.log10(x);\n",
    "        print('log10({0}) = {1} '.format(x,y));\n",
    "    except ValueError as exc:\n",
    "        print(str(exc.args[0]))\n",
    "    except ZeroDivisionError:\n",
    "        print(\"input value mustn't be 1!\")\n",
    "    #except Exception:\n",
    "     #   print(\"Other Exception\")\n"
   ]
  },
  {
   "cell_type": "code",
   "execution_count": 1,
   "metadata": {},
   "outputs": [
    {
     "name": "stdout",
     "output_type": "stream",
     "text": [
      ">-1\n",
      "('math domain error',)\n",
      ">q\n"
     ]
    }
   ],
   "source": [
    "import math\n",
    "while True:\n",
    "    try:\n",
    "        text = input('>');\n",
    "        if (text =='q'):\n",
    "            break;\n",
    "        x = float(text);\n",
    "        y =1/ math.log10(x);\n",
    "        print('log10({0}) = {1} '.format(x,y));\n",
    "    except Exception as exp:\n",
    "        print(str(exp.args))"
   ]
  },
  {
   "cell_type": "code",
   "execution_count": 3,
   "metadata": {},
   "outputs": [
    {
     "name": "stdout",
     "output_type": "stream",
     "text": [
      "finally was called.\n"
     ]
    },
    {
     "ename": "ZeroDivisionError",
     "evalue": "division by zero",
     "output_type": "error",
     "traceback": [
      "\u001b[1;31m---------------------------------------------------------------------------\u001b[0m",
      "\u001b[1;31mZeroDivisionError\u001b[0m                         Traceback (most recent call last)",
      "\u001b[1;32m<ipython-input-3-cfd4302ba95a>\u001b[0m in \u001b[0;36m<module>\u001b[1;34m()\u001b[0m\n\u001b[0;32m      7\u001b[0m \u001b[1;31m#抛出异常之前执行\u001b[0m\u001b[1;33m\u001b[0m\u001b[1;33m\u001b[0m\u001b[0m\n\u001b[0;32m      8\u001b[0m \u001b[1;32mtry\u001b[0m\u001b[1;33m:\u001b[0m\u001b[1;33m\u001b[0m\u001b[0m\n\u001b[1;32m----> 9\u001b[1;33m     \u001b[0mprint\u001b[0m \u001b[1;33m(\u001b[0m\u001b[1;36m1\u001b[0m \u001b[1;33m/\u001b[0m \u001b[1;36m0\u001b[0m\u001b[1;33m)\u001b[0m\u001b[1;33m\u001b[0m\u001b[0m\n\u001b[0m\u001b[0;32m     10\u001b[0m \u001b[1;32mfinally\u001b[0m\u001b[1;33m:\u001b[0m\u001b[1;33m\u001b[0m\u001b[0m\n\u001b[0;32m     11\u001b[0m     \u001b[0mprint\u001b[0m \u001b[1;33m(\u001b[0m\u001b[1;34m'finally was called.'\u001b[0m\u001b[1;33m)\u001b[0m\u001b[1;33m\u001b[0m\u001b[0m\n",
      "\u001b[1;31mZeroDivisionError\u001b[0m: division by zero"
     ]
    }
   ],
   "source": [
    "#finally 关键字:\n",
    "#不管 try 块有没有异常， \n",
    "#finally 块的内容总是会被执行，\n",
    "#而且会在抛出异常前执行，因此可以用来作为安全保证，\n",
    "#比如确保打开的文件被关闭。\n",
    "\n",
    "#抛出异常之前执行\n",
    "try:\n",
    "    print (1 / 0)\n",
    "finally:\n",
    "    print ('finally was called.')"
   ]
  },
  {
   "cell_type": "code",
   "execution_count": 4,
   "metadata": {},
   "outputs": [
    {
     "name": "stdout",
     "output_type": "stream",
     "text": [
      "divide by 0.\n",
      "finally was called.\n"
     ]
    }
   ],
   "source": [
    "#如果异常被except捕获，\n",
    "#那么finally就在捕获异常后执行\n",
    "try:\n",
    "    print (1 / 0)\n",
    "except ZeroDivisionError:\n",
    "    print ('divide by 0.')\n",
    "finally:\n",
    "    print ('finally was called.')"
   ]
  },
  {
   "cell_type": "code",
   "execution_count": null,
   "metadata": {
    "collapsed": true
   },
   "outputs": [],
   "source": []
  }
 ],
 "metadata": {
  "kernelspec": {
   "display_name": "Python 3",
   "language": "python",
   "name": "python3"
  },
  "language_info": {
   "codemirror_mode": {
    "name": "ipython",
    "version": 3
   },
   "file_extension": ".py",
   "mimetype": "text/x-python",
   "name": "python",
   "nbconvert_exporter": "python",
   "pygments_lexer": "ipython3",
   "version": "3.6.4"
  }
 },
 "nbformat": 4,
 "nbformat_minor": 2
}
