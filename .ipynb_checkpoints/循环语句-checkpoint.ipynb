{
 "cells": [
  {
   "cell_type": "code",
   "execution_count": 1,
   "metadata": {
    "collapsed": true
   },
   "outputs": [],
   "source": [
    "#while循环\n",
    "#while <condition>:\n",
    "    #<statesments>"
   ]
  },
  {
   "cell_type": "code",
   "execution_count": 6,
   "metadata": {},
   "outputs": [
    {
     "name": "stdout",
     "output_type": "stream",
     "text": [
      "49995000\n"
     ]
    }
   ],
   "source": [
    "i = 0;\n",
    "total = 0;\n",
    "while i < 10000:\n",
    "    total += i;\n",
    "    i+=1;\n",
    "print(total)"
   ]
  },
  {
   "cell_type": "code",
   "execution_count": 4,
   "metadata": {},
   "outputs": [
    {
     "name": "stdout",
     "output_type": "stream",
     "text": [
      "{'Macbeth', 'King Lear', 'Hamlet'}\n",
      "Perform Macbeth\n",
      "Perform King Lear\n",
      "Perform Hamlet\n"
     ]
    }
   ],
   "source": [
    "#空容器会被当成 False \n",
    "#，因此可以用 while 循环来读取容器中的所有元素：\n",
    "plays = set(['Hamlet', 'Macbeth', 'King Lear'])\n",
    "print(plays)\n",
    "while plays:\n",
    "    play = plays.pop();\n",
    "    print('Perform ' + play);"
   ]
  },
  {
   "cell_type": "code",
   "execution_count": 7,
   "metadata": {},
   "outputs": [
    {
     "data": {
      "text/plain": [
       "49995000"
      ]
     },
     "execution_count": 7,
     "metadata": {},
     "output_type": "execute_result"
    }
   ],
   "source": [
    "#for <variable> in <sequence>:\n",
    "    #<indented block of code>\n",
    "#for 循环会遍历完<sequence>中所有元素为止\n",
    "#使用range()\n",
    "total = 0;\n",
    "for i in range(10000):\n",
    "    total += i;\n",
    "total"
   ]
  },
  {
   "cell_type": "code",
   "execution_count": 13,
   "metadata": {},
   "outputs": [
    {
     "name": "stdout",
     "output_type": "stream",
     "text": [
      "['Found:', 7]\n"
     ]
    }
   ],
   "source": [
    "#与 if 一样， while 和 for 循环后面也可以跟着 else 语句，\n",
    "#不过要和break一起连用。\n",
    "\n",
    "#1.当循环正常结束时，循环条件不满足， else 被执行；\n",
    "#2.当循环被 break 结束时，循环条件仍然满足， else 不执行。\n",
    "values = [7, 6, 4, 7, 19, 2, 1]\n",
    "for x in values:\n",
    "    if x <= 10:\n",
    "        print (['Found:', x])\n",
    "        break\n",
    "else:\n",
    "    print ('All values greater than 10')\n",
    "#else 不执行，执行break时，循环还应在继续"
   ]
  },
  {
   "cell_type": "code",
   "execution_count": 16,
   "metadata": {},
   "outputs": [
    {
     "name": "stdout",
     "output_type": "stream",
     "text": [
      "All values greater than 10\n"
     ]
    }
   ],
   "source": [
    "values = [11, 12, 13, 14]\n",
    "for x in values:\n",
    "    if x <= 10:\n",
    "        print (['Found:', x])\n",
    "        break\n",
    "else:\n",
    "    print ('All values greater than 10')"
   ]
  },
  {
   "cell_type": "code",
   "execution_count": null,
   "metadata": {
    "collapsed": true
   },
   "outputs": [],
   "source": []
  }
 ],
 "metadata": {
  "kernelspec": {
   "display_name": "Python 3",
   "language": "python",
   "name": "python3"
  },
  "language_info": {
   "codemirror_mode": {
    "name": "ipython",
    "version": 3
   },
   "file_extension": ".py",
   "mimetype": "text/x-python",
   "name": "python",
   "nbconvert_exporter": "python",
   "pygments_lexer": "ipython3",
   "version": "3.6.4"
  }
 },
 "nbformat": 4,
 "nbformat_minor": 2
}
