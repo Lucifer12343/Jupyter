{
 "cells": [
  {
   "cell_type": "code",
   "execution_count": 54,
   "metadata": {},
   "outputs": [
    {
     "data": {
      "text/plain": [
       "'hello,world'"
      ]
     },
     "execution_count": 54,
     "metadata": {},
     "output_type": "execute_result"
    }
   ],
   "source": [
    "#字符串的加法\n",
    "s = \"hello\" + \",world\"\n",
    "s"
   ]
  },
  {
   "cell_type": "code",
   "execution_count": 55,
   "metadata": {},
   "outputs": [
    {
     "name": "stdout",
     "output_type": "stream",
     "text": [
      "h\n",
      "d\n",
      "l\n",
      "hello,wor\n"
     ]
    }
   ],
   "source": [
    "#字符串索引号是从0~len(s)-1，或是从-1~-len(s)\n",
    "print(s[0])\n",
    "print(s[-1])\n",
    "print(s[-2])\n",
    "print(s[0:9])"
   ]
  },
  {
   "cell_type": "code",
   "execution_count": 56,
   "metadata": {},
   "outputs": [],
   "source": [
    "#分割\n",
    "#对字符串进行分割\n",
    "s_sep = s.split(sep = ',');\n",
    "s_sep +[123];\n"
   ]
  },
  {
   "cell_type": "code",
   "execution_count": 57,
   "metadata": {},
   "outputs": [
    {
     "data": {
      "text/plain": [
       "'hello,,world'"
      ]
     },
     "execution_count": 57,
     "metadata": {},
     "output_type": "execute_result"
    }
   ],
   "source": [
    "#连接\n",
    "#字符串可以使用join(list)方法，将list的字符串连接起来，\n",
    "#使用s1进行分割字符串\n",
    "s1=',,';\n",
    "s1.join(s_sep)"
   ]
  },
  {
   "cell_type": "code",
   "execution_count": 58,
   "metadata": {},
   "outputs": [
    {
     "name": "stdout",
     "output_type": "stream",
     "text": [
      "hello,world\n",
      "hello,python\n"
     ]
    }
   ],
   "source": [
    "#替换\n",
    "#str.replace('x','xx')将str中的x替换为xx\n",
    "#replace方法只是产生了一个新的字符串,s并没有被更新\n",
    "print(s);\n",
    "s2 = s.replace('world','python');\n",
    "print(s2)"
   ]
  },
  {
   "cell_type": "code",
   "execution_count": 59,
   "metadata": {},
   "outputs": [
    {
     "name": "stdout",
     "output_type": "stream",
     "text": [
      "HELLO,PYTHON\n",
      "hello,python\n"
     ]
    }
   ],
   "source": [
    "#大小写转换\n",
    "#s.upper()返回全部转换为大写的字符串\n",
    "#s.lower()返回全部转换为小写的字符串\n",
    "\n",
    "s_upper = s2.upper();\n",
    "print(s_upper);\n",
    "print(s2)\n",
    "#可见s2没有改变"
   ]
  },
  {
   "cell_type": "code",
   "execution_count": 60,
   "metadata": {},
   "outputs": [
    {
     "data": {
      "text/plain": [
       "'hello world'"
      ]
     },
     "execution_count": 60,
     "metadata": {},
     "output_type": "execute_result"
    }
   ],
   "source": [
    "#去除多余空格\n",
    "s = \" hello world  \"\n",
    "#s.strip()返回一个将s两端的多余空格除去的新字符串。\n",
    "(s.strip())\n"
   ]
  },
  {
   "cell_type": "code",
   "execution_count": 61,
   "metadata": {},
   "outputs": [
    {
     "data": {
      "text/plain": [
       "'hello world  '"
      ]
     },
     "execution_count": 61,
     "metadata": {},
     "output_type": "execute_result"
    }
   ],
   "source": [
    "#s.lstrip()返回一个将s开头的多余空格除去的新字符串。\n",
    "(s.lstrip())\n"
   ]
  },
  {
   "cell_type": "code",
   "execution_count": 62,
   "metadata": {},
   "outputs": [
    {
     "data": {
      "text/plain": [
       "' hello world'"
      ]
     },
     "execution_count": 62,
     "metadata": {},
     "output_type": "execute_result"
    }
   ],
   "source": [
    "#s.rstrip()返回一个将s结尾的多余空格除去的新字符串。\n",
    "s.rstrip()"
   ]
  },
  {
   "cell_type": "code",
   "execution_count": 63,
   "metadata": {},
   "outputs": [
    {
     "data": {
      "text/plain": [
       "' hello world  '"
      ]
     },
     "execution_count": 63,
     "metadata": {},
     "output_type": "execute_result"
    }
   ],
   "source": [
    "#可见s的值不会发生变化\n",
    "s"
   ]
  },
  {
   "cell_type": "code",
   "execution_count": 71,
   "metadata": {},
   "outputs": [
    {
     "name": "stdout",
     "output_type": "stream",
     "text": [
      " hello world  \n",
      "True\n"
     ]
    }
   ],
   "source": [
    "s1 = s.replace('h','H')\n",
    "print(s)\n",
    "print(s.islower())"
   ]
  },
  {
   "cell_type": "code",
   "execution_count": 72,
   "metadata": {},
   "outputs": [
    {
     "name": "stdout",
     "output_type": "stream",
     "text": [
      "\n",
      "hello world!\n",
      "!!\n"
     ]
    }
   ],
   "source": [
    "#使用\"\"\" \"\"\"产生多行字符串\n",
    "a = \"\"\"\n",
    "hello world!\n",
    "!!\"\"\"\n",
    "\n",
    "print(a)"
   ]
  },
  {
   "cell_type": "code",
   "execution_count": 73,
   "metadata": {},
   "outputs": [
    {
     "data": {
      "text/plain": [
       "'\\nhello world!\\n!!'"
      ]
     },
     "execution_count": 73,
     "metadata": {},
     "output_type": "execute_result"
    }
   ],
   "source": [
    "a"
   ]
  },
  {
   "cell_type": "code",
   "execution_count": 79,
   "metadata": {},
   "outputs": [
    {
     "data": {
      "text/plain": [
       "'foo                 5  6.283'"
      ]
     },
     "execution_count": 79,
     "metadata": {},
     "output_type": "execute_result"
    }
   ],
   "source": [
    "#格式化字符串\n",
    "#format()方法格式化字符串\n",
    "#具体用法如下，字符串中花括号 {} 的部分\n",
    "#会被format传入的参数替代，\n",
    "#传入的值可以是字符串，也可以是数字或者别的对象。\n",
    "\n",
    "from math import pi as p\n",
    "\n",
    "'{0:10} {1:10d} {2:6.3f}'.format('foo', 5, 2 * p)\n",
    "#{a:b} : a是表示第几个输入参数在这个位置\n",
    "#b 是输出格式10.3f是指显示占10个字符位，3位小数"
   ]
  },
  {
   "cell_type": "code",
   "execution_count": null,
   "metadata": {
    "collapsed": true
   },
   "outputs": [],
   "source": []
  }
 ],
 "metadata": {
  "kernelspec": {
   "display_name": "Python 3",
   "language": "python",
   "name": "python3"
  },
  "language_info": {
   "codemirror_mode": {
    "name": "ipython",
    "version": 3
   },
   "file_extension": ".py",
   "mimetype": "text/x-python",
   "name": "python",
   "nbconvert_exporter": "python",
   "pygments_lexer": "ipython3",
   "version": "3.6.4"
  }
 },
 "nbformat": 4,
 "nbformat_minor": 2
}
