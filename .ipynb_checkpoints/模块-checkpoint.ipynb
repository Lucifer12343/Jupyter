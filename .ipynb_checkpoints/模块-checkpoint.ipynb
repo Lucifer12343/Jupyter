{
 "cells": [
  {
   "cell_type": "code",
   "execution_count": 25,
   "metadata": {},
   "outputs": [
    {
     "name": "stdout",
     "output_type": "stream",
     "text": [
      "Writing ex1.py\n"
     ]
    }
   ],
   "source": [
    "%%writefile ex1.py\n",
    "\n",
    "PI = 3.1416\n",
    "\n",
    "def sum(lst):\n",
    "    tot = lst[0]\n",
    "    for value in lst[1:]:\n",
    "        tot = tot + value\n",
    "    return tot\n",
    "    \n",
    "w = [0, 1, 2, 3]\n",
    "print (sum(w), PI)"
   ]
  },
  {
   "cell_type": "code",
   "execution_count": 7,
   "metadata": {},
   "outputs": [
    {
     "name": "stdout",
     "output_type": "stream",
     "text": [
      "6 3.1416\n"
     ]
    }
   ],
   "source": [
    "%run ex1.py"
   ]
  },
  {
   "cell_type": "code",
   "execution_count": 8,
   "metadata": {},
   "outputs": [
    {
     "name": "stdout",
     "output_type": "stream",
     "text": [
      "6 3.1416\n"
     ]
    }
   ],
   "source": [
    "#每个.py文件都是可以引用的模块\n",
    "#py文件要在工作目录下才可以引用\n",
    "#实际是执行一次py文件，\n",
    "import ex1"
   ]
  },
  {
   "cell_type": "code",
   "execution_count": 9,
   "metadata": {},
   "outputs": [
    {
     "data": {
      "text/plain": [
       "<module 'ex1' from 'F:\\\\python\\\\Jupyter\\\\ex1.py'>"
      ]
     },
     "execution_count": 9,
     "metadata": {},
     "output_type": "execute_result"
    }
   ],
   "source": [
    "ex1"
   ]
  },
  {
   "cell_type": "code",
   "execution_count": 10,
   "metadata": {},
   "outputs": [
    {
     "data": {
      "text/plain": [
       "3.1416"
      ]
     },
     "execution_count": 10,
     "metadata": {},
     "output_type": "execute_result"
    }
   ],
   "source": [
    "#引用module中的变量要使用module.value的形式\n",
    "ex1.PI"
   ]
  },
  {
   "cell_type": "code",
   "execution_count": 12,
   "metadata": {},
   "outputs": [
    {
     "data": {
      "text/plain": [
       "3.141593"
      ]
     },
     "execution_count": 12,
     "metadata": {},
     "output_type": "execute_result"
    }
   ],
   "source": [
    "#可以修改引用的模块的某些值\n",
    "ex1.PI = 3.141593\n",
    "ex1.PI"
   ]
  },
  {
   "cell_type": "code",
   "execution_count": 13,
   "metadata": {},
   "outputs": [
    {
     "name": "stdout",
     "output_type": "stream",
     "text": [
      "9\n"
     ]
    }
   ],
   "source": [
    "#可以使用module.func的形式调用函数\n",
    "print (ex1.sum([2, 3, 4]))"
   ]
  },
  {
   "cell_type": "code",
   "execution_count": 14,
   "metadata": {
    "collapsed": true
   },
   "outputs": [],
   "source": [
    "#第二次import ex1并没有真正重载\n",
    "import ex1"
   ]
  },
  {
   "cell_type": "code",
   "execution_count": 15,
   "metadata": {},
   "outputs": [
    {
     "data": {
      "text/plain": [
       "3.141593"
      ]
     },
     "execution_count": 15,
     "metadata": {},
     "output_type": "execute_result"
    }
   ],
   "source": [
    "ex1.PI"
   ]
  },
  {
   "cell_type": "code",
   "execution_count": 17,
   "metadata": {},
   "outputs": [
    {
     "name": "stdout",
     "output_type": "stream",
     "text": [
      "6 3.1416\n"
     ]
    },
    {
     "data": {
      "text/plain": [
       "<module 'ex1' from 'F:\\\\python\\\\Jupyter\\\\ex1.py'>"
      ]
     },
     "execution_count": 17,
     "metadata": {},
     "output_type": "execute_result"
    }
   ],
   "source": [
    "#使用reload强制重载\n",
    "from imp import reload\n",
    "reload(ex1)"
   ]
  },
  {
   "cell_type": "code",
   "execution_count": 18,
   "metadata": {},
   "outputs": [
    {
     "data": {
      "text/plain": [
       "3.1416"
      ]
     },
     "execution_count": 18,
     "metadata": {},
     "output_type": "execute_result"
    }
   ],
   "source": [
    "ex1.PI\n",
    "#此时重载成功"
   ]
  },
  {
   "cell_type": "code",
   "execution_count": 19,
   "metadata": {
    "collapsed": true
   },
   "outputs": [],
   "source": [
    "import os \n",
    "os.remove('ex1.py')"
   ]
  },
  {
   "cell_type": "code",
   "execution_count": 21,
   "metadata": {},
   "outputs": [
    {
     "data": {
      "text/plain": [
       "'F:\\\\python\\\\Jupyter'"
      ]
     },
     "execution_count": 21,
     "metadata": {},
     "output_type": "execute_result"
    }
   ],
   "source": [
    "os.getcwd()"
   ]
  },
  {
   "cell_type": "code",
   "execution_count": 1,
   "metadata": {},
   "outputs": [
    {
     "name": "stdout",
     "output_type": "stream",
     "text": [
      "Overwriting ex2.py\n"
     ]
    }
   ],
   "source": [
    "%%writefile ex2.py\n",
    "#__name__ 属性\n",
    "#有时候我们想将一个 .py 文件既当作脚本，\n",
    "#又能当作模块用，这个时候可以使用 __name__ 这个属性。\n",
    "\n",
    "#只有当文件被当作脚本执行的时候， __name__的值才会是 '__main__'，\n",
    "#所以我们可以：\n",
    "PI = 3.1416\n",
    "def sum(lst):\n",
    "    \"\"\" Sum the values in a list\n",
    "    \"\"\"\n",
    "    tot = 0\n",
    "    for value in lst:\n",
    "        tot = tot + value\n",
    "    return tot\n",
    "\n",
    "def add(x, y):\n",
    "    \" Add two values.\"\n",
    "    a = x + y\n",
    "    return a\n",
    "\n",
    "def test():\n",
    "    w = [0,1,2,3]\n",
    "    assert(sum(w) == 6)\n",
    "    print ('test passed.')\n",
    "    \n",
    "if __name__ == '__main__':\n",
    "    test()"
   ]
  },
  {
   "cell_type": "code",
   "execution_count": 2,
   "metadata": {
    "collapsed": true
   },
   "outputs": [],
   "source": [
    "#run一下py我们会运行test"
   ]
  },
  {
   "cell_type": "code",
   "execution_count": 3,
   "metadata": {},
   "outputs": [
    {
     "name": "stdout",
     "output_type": "stream",
     "text": [
      "test passed.\n"
     ]
    }
   ],
   "source": [
    "%run ex2.py"
   ]
  },
  {
   "cell_type": "code",
   "execution_count": 4,
   "metadata": {
    "collapsed": true
   },
   "outputs": [],
   "source": [
    "#import 一下py 我们不会允许test\n",
    "import ex2"
   ]
  },
  {
   "cell_type": "code",
   "execution_count": null,
   "metadata": {
    "collapsed": true
   },
   "outputs": [],
   "source": [
    "假设我们有这样的一个文件夹：\n",
    "\n",
    "foo/\n",
    "\n",
    "__init__.py\n",
    "bar.py (defines func)\n",
    "baz.py (defines zap)\n",
    "这意味着 foo 是一个包，我们可以这样导入其中的内容：\n",
    "\n",
    "from foo.bar import func\n",
    "from foo.baz import zap\n",
    "bar 和 baz 都是 foo 文件夹下的 .py 文件。\n",
    "\n",
    "导入包要求：\n",
    "\n",
    "文件夹 foo 在Python的搜索路径中\n",
    "__init__.py 表示 foo 是一个包，它可以是个空文件。\n",
    "常用的标准库\n",
    "re 正则表达式\n",
    "copy 复制\n",
    "math, cmath 数学\n",
    "decimal, fraction\n",
    "sqlite3 数据库\n",
    "os, os.path 文件系统\n",
    "gzip, bz2, zipfile, tarfile 压缩文件\n",
    "csv, netrc 各种文件格式\n",
    "xml\n",
    "htmllib\n",
    "ftplib, socket\n",
    "cmd 命令行\n",
    "pdb\n",
    "profile, cProfile, timeit\n",
    "collections, heapq, bisect 数据结构\n",
    "mmap\n",
    "threading, Queue 并行\n",
    "multiprocessing\n",
    "subprocess\n",
    "pickle, cPickle\n",
    "struct"
   ]
  },
  {
   "cell_type": "code",
   "execution_count": null,
   "metadata": {
    "collapsed": true
   },
   "outputs": [],
   "source": []
  }
 ],
 "metadata": {
  "kernelspec": {
   "display_name": "Python 3",
   "language": "python",
   "name": "python3"
  },
  "language_info": {
   "codemirror_mode": {
    "name": "ipython",
    "version": 3
   },
   "file_extension": ".py",
   "mimetype": "text/x-python",
   "name": "python",
   "nbconvert_exporter": "python",
   "pygments_lexer": "ipython3",
   "version": "3.6.4"
  }
 },
 "nbformat": 4,
 "nbformat_minor": 2
}
