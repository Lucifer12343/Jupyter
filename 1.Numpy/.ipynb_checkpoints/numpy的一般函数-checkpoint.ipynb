{
 "cells": [
  {
   "cell_type": "code",
   "execution_count": 1,
   "metadata": {
    "collapsed": true
   },
   "outputs": [],
   "source": [
    "import numpy as np"
   ]
  },
  {
   "cell_type": "raw",
   "metadata": {},
   "source": [
    "#三角函数包括:\n",
    "sin(x)\n",
    "cos(x)\n",
    "tan(x)\n",
    "sinh(x)\n",
    "conh(x)\n",
    "tanh(x)\n",
    "arccos(x)\n",
    "arctan(x)\n",
    "arcsin(x)\n",
    "arccosh(x)\n",
    "arctanh(x)\n",
    "arcsinh(x)\n",
    "arctan2(x,y)\n"
   ]
  },
  {
   "cell_type": "raw",
   "metadata": {},
   "source": [
    "#向量操作包括\n",
    "dot(x,y)\n",
    "inner(x,y)\n",
    "cross(x,y)\n",
    "vdot(x,y)\n",
    "outer(x,y)\n",
    "kron(x,y)\n",
    "tensordot(x,y[,axis])"
   ]
  },
  {
   "cell_type": "raw",
   "metadata": {},
   "source": [
    "#其他数学运算操作\n",
    "np.exp(x)\n",
    "np.log(x)\n",
    "np.log10(x)\n",
    "np.sqrt(x)\n",
    "np.absolute(x)\n",
    "np.conjugate(x)\n",
    "np.negative(x)\n",
    "np.ceil(x)\n",
    "np.floor(x)\n",
    "np.fabs(x)\n",
    "np.hypot(x)\n",
    "np.fmod(x)\n",
    "np.maximum(x,y)\n",
    "np.minimum(x,y)"
   ]
  },
  {
   "cell_type": "code",
   "execution_count": 2,
   "metadata": {
    "collapsed": true
   },
   "outputs": [],
   "source": [
    "a = np.mat('1,2,3;4,5,6')"
   ]
  },
  {
   "cell_type": "code",
   "execution_count": 4,
   "metadata": {},
   "outputs": [
    {
     "data": {
      "text/plain": [
       "matrix([[-1, -2, -3],\n",
       "        [-4, -5, -6]])"
      ]
     },
     "execution_count": 4,
     "metadata": {},
     "output_type": "execute_result"
    }
   ],
   "source": [
    "np.negative(a)"
   ]
  },
  {
   "cell_type": "code",
   "execution_count": 21,
   "metadata": {},
   "outputs": [
    {
     "data": {
      "text/plain": [
       "array([[ 5.,  5.,  5.],\n",
       "       [ 5.,  5.,  5.],\n",
       "       [ 5.,  5.,  5.]])"
      ]
     },
     "execution_count": 21,
     "metadata": {},
     "output_type": "execute_result"
    }
   ],
   "source": [
    "#hypot返回对应点到远点的距离\n",
    "np.hypot(3*np.ones((3, 3)), 4*np.ones((3, 3)))\n"
   ]
  },
  {
   "cell_type": "code",
   "execution_count": 13,
   "metadata": {
    "collapsed": true
   },
   "outputs": [],
   "source": [
    "#类型处理\n",
    "iscomplexobj\n",
    "iscomplex\n",
    "isrealobj\n",
    "isreal\n",
    "imag\n",
    "real\n",
    "real_if_close\n",
    "isscalar\n",
    "isneginf\n",
    "isposinf\n",
    "isinf\n",
    "isfinite\n",
    "isnan\n",
    "nan_to_num\n",
    "common_type\n",
    "typename`"
   ]
  },
  {
   "cell_type": "code",
   "execution_count": 22,
   "metadata": {},
   "outputs": [
    {
     "data": {
      "text/plain": [
       "inf"
      ]
     },
     "execution_count": 22,
     "metadata": {},
     "output_type": "execute_result"
    }
   ],
   "source": [
    "np.inf"
   ]
  },
  {
   "cell_type": "code",
   "execution_count": 23,
   "metadata": {},
   "outputs": [
    {
     "data": {
      "text/plain": [
       "-inf"
      ]
     },
     "execution_count": 23,
     "metadata": {},
     "output_type": "execute_result"
    }
   ],
   "source": [
    "-np.inf"
   ]
  },
  {
   "cell_type": "code",
   "execution_count": 24,
   "metadata": {},
   "outputs": [
    {
     "data": {
      "text/plain": [
       "nan"
      ]
     },
     "execution_count": 24,
     "metadata": {},
     "output_type": "execute_result"
    }
   ],
   "source": [
    "np.nan#非法值"
   ]
  },
  {
   "cell_type": "code",
   "execution_count": 25,
   "metadata": {},
   "outputs": [
    {
     "data": {
      "text/plain": [
       "False"
      ]
     },
     "execution_count": 25,
     "metadata": {},
     "output_type": "execute_result"
    }
   ],
   "source": [
    "#检查是否是无穷\n",
    "np.isinf(1.)"
   ]
  },
  {
   "cell_type": "code",
   "execution_count": 26,
   "metadata": {},
   "outputs": [
    {
     "data": {
      "text/plain": [
       "True"
      ]
     },
     "execution_count": 26,
     "metadata": {},
     "output_type": "execute_result"
    }
   ],
   "source": [
    "np.isinf(-np.inf)"
   ]
  },
  {
   "cell_type": "code",
   "execution_count": 29,
   "metadata": {},
   "outputs": [
    {
     "name": "stderr",
     "output_type": "stream",
     "text": [
      "H:\\ToolPrograms\\Anaconda\\lib\\site-packages\\ipykernel_launcher.py:1: RuntimeWarning: divide by zero encountered in true_divide\n",
      "  \"\"\"Entry point for launching an IPython kernel.\n"
     ]
    },
    {
     "data": {
      "text/plain": [
       "array([ inf])"
      ]
     },
     "execution_count": 29,
     "metadata": {},
     "output_type": "execute_result"
    }
   ],
   "source": [
    "np.array([1])/0"
   ]
  },
  {
   "cell_type": "code",
   "execution_count": 31,
   "metadata": {},
   "outputs": [
    {
     "name": "stderr",
     "output_type": "stream",
     "text": [
      "H:\\ToolPrograms\\Anaconda\\lib\\site-packages\\ipykernel_launcher.py:3: RuntimeWarning: divide by zero encountered in true_divide\n",
      "  This is separate from the ipykernel package so we can avoid doing imports until\n",
      "H:\\ToolPrograms\\Anaconda\\lib\\site-packages\\ipykernel_launcher.py:3: RuntimeWarning: invalid value encountered in true_divide\n",
      "  This is separate from the ipykernel package so we can avoid doing imports until\n"
     ]
    },
    {
     "data": {
      "text/plain": [
       "array([-inf,  nan,  inf,  inf,  inf])"
      ]
     },
     "execution_count": 31,
     "metadata": {},
     "output_type": "execute_result"
    }
   ],
   "source": [
    "#只有0/0会的到nan,非0值/0会得到无穷\n",
    "a = np.arange(5.0) -1\n",
    "b = a / 0.0\n",
    "b"
   ]
  },
  {
   "cell_type": "raw",
   "metadata": {},
   "source": [
    "#修改形状\n",
    "atleast_1d\n",
    "atleast_2d\n",
    "atleast_3d\n",
    "expand_dims\n",
    "apply_over_axes\n",
    "apply_along_axis\n",
    "hstack\n",
    "vstackr\n",
    "dstack\n",
    "column_stack\n",
    "hsplit\n",
    "vsplit\n",
    "dsplit\n",
    "split\n",
    "squeeze"
   ]
  },
  {
   "cell_type": "raw",
   "metadata": {},
   "source": [
    "#其他有用函数\n",
    "fix\n",
    "mod\n",
    "amax\n",
    "amin\n",
    "ptp\n",
    "sum\n",
    "cumsum\n",
    "prod\n",
    "cumprod\n",
    "diff\n",
    "angle\n",
    "\n",
    "unwrap\n",
    "sort_complex\n",
    "trim_zeros\n",
    "fliplr\n",
    "flipud\n",
    "rot90\n",
    "diag\n",
    "eye\n",
    "select\n",
    "extract\n",
    "insert\n",
    "\n",
    "roots\n",
    "poly\n",
    "any\n",
    "all\n",
    "disp\n",
    "unique\n",
    "nansum\n",
    "nanmax\n",
    "nanargmax\n",
    "nanargmin\n",
    "nanmin"
   ]
  }
 ],
 "metadata": {
  "kernelspec": {
   "display_name": "Python 3",
   "language": "python",
   "name": "python3"
  },
  "language_info": {
   "codemirror_mode": {
    "name": "ipython",
    "version": 3
   },
   "file_extension": ".py",
   "mimetype": "text/x-python",
   "name": "python",
   "nbconvert_exporter": "python",
   "pygments_lexer": "ipython3",
   "version": "3.6.4"
  }
 },
 "nbformat": 4,
 "nbformat_minor": 2
}
