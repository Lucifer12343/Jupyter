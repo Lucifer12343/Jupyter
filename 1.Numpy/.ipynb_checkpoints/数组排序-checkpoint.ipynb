{
 "cells": [
  {
   "cell_type": "code",
   "execution_count": 1,
   "metadata": {
    "collapsed": true
   },
   "outputs": [],
   "source": [
    "import numpy as np"
   ]
  },
  {
   "cell_type": "code",
   "execution_count": 2,
   "metadata": {
    "collapsed": true
   },
   "outputs": [],
   "source": [
    "names = np.array(['bob', 'sue', 'jan', 'ad'])\n",
    "weights = np.array([20.8, 93.2, 53.4, 61.8])\n"
   ]
  },
  {
   "cell_type": "code",
   "execution_count": 3,
   "metadata": {},
   "outputs": [
    {
     "data": {
      "text/plain": [
       "array([ 20.8,  53.4,  61.8,  93.2])"
      ]
     },
     "execution_count": 3,
     "metadata": {},
     "output_type": "execute_result"
    }
   ],
   "source": [
    "#sort函数对数组进行排序,默认升序排列\n",
    "np.sort(weights)"
   ]
  },
  {
   "cell_type": "code",
   "execution_count": 11,
   "metadata": {},
   "outputs": [
    {
     "data": {
      "text/plain": [
       "array([0, 2, 3, 1], dtype=int64)"
      ]
     },
     "execution_count": 11,
     "metadata": {},
     "output_type": "execute_result"
    }
   ],
   "source": [
    "#argsort函数返回从小到达的排列在数组中的索引位置\n",
    "ordered_indices = np.argsort(weights)\n",
    "#ordered_indices = np.argsort(ordered_indices)\n",
    "ordered_indices\n"
   ]
  },
  {
   "cell_type": "code",
   "execution_count": 12,
   "metadata": {},
   "outputs": [
    {
     "data": {
      "text/plain": [
       "array(['bob', 'jan', 'ad', 'sue'],\n",
       "      dtype='<U3')"
      ]
     },
     "execution_count": 12,
     "metadata": {},
     "output_type": "execute_result"
    }
   ],
   "source": [
    "#可以使用ordered_indices索引\n",
    "names[ordered_indices]"
   ]
  },
  {
   "cell_type": "code",
   "execution_count": 10,
   "metadata": {},
   "outputs": [
    {
     "data": {
      "text/plain": [
       "array([0, 3, 1, 2], dtype=int64)"
      ]
     },
     "execution_count": 10,
     "metadata": {},
     "output_type": "execute_result"
    }
   ],
   "source": [
    "#如果我想知道，数组中某元素在升序排列中的位置可以按下面的方法\n",
    "ordered_indices = np.argsort(weights)\n",
    "ordered_indices = np.argsort(ordered_indices)\n",
    "ordered_indices"
   ]
  },
  {
   "cell_type": "code",
   "execution_count": 14,
   "metadata": {},
   "outputs": [
    {
     "data": {
      "text/plain": [
       "array([ 20.8,  53.4,  61.8,  93.2])"
      ]
     },
     "execution_count": 14,
     "metadata": {},
     "output_type": "execute_result"
    }
   ],
   "source": [
    "#data.sort()会改变数组的数值\n",
    "data = np.array([20.8,  93.2,  53.4,  61.8])\n",
    "data.sort()\n",
    "data"
   ]
  },
  {
   "cell_type": "code",
   "execution_count": 17,
   "metadata": {},
   "outputs": [
    {
     "data": {
      "text/plain": [
       "array([0, 4, 2, 1, 2, 1], dtype=int64)"
      ]
     },
     "execution_count": 17,
     "metadata": {},
     "output_type": "execute_result"
    }
   ],
   "source": [
    "#searchsorted(sorted_array, values)\n",
    "\n",
    "#searchsorted 接受两个参数，其中，第一个必需是已排序的数组。\n",
    "\n",
    "sorted_array = np.linspace(0,1,5)\n",
    "values = np.array([-0.1,.8,.3,.12,.5,.25])\n",
    "np.searchsorted(sorted_array, values)"
   ]
  },
  {
   "cell_type": "code",
   "execution_count": 19,
   "metadata": {},
   "outputs": [
    {
     "data": {
      "text/plain": [
       "array([ 0.40095603,  0.40840833,  0.42724989,  0.42881575,  0.42987878,\n",
       "        0.43647841,  0.44510282,  0.44651268,  0.46122915,  0.46555381,\n",
       "        0.47641075,  0.47824711,  0.47855132,  0.48073022,  0.48141074,\n",
       "        0.48235804,  0.52128873,  0.52898579,  0.53608751,  0.54615689,\n",
       "        0.54936746,  0.55355937,  0.56191844,  0.56269774,  0.57612021,\n",
       "        0.599667  ])"
      ]
     },
     "execution_count": 19,
     "metadata": {},
     "output_type": "execute_result"
    }
   ],
   "source": [
    "#利用插入位置，将数组中所有在这两个值之间的值提取出来：\n",
    "\n",
    "data = np.random.rand(100)\n",
    "data.sort()\n",
    "\n",
    "bounds = (.4, .6)\n",
    "\n",
    "low_idx, high_idx = np.searchsorted(data, bounds)\n",
    "\n",
    "data[low_idx:high_idx]"
   ]
  },
  {
   "cell_type": "code",
   "execution_count": 27,
   "metadata": {},
   "outputs": [
    {
     "data": {
      "text/plain": [
       "array([ 0.40095603,  0.40840833,  0.42724989,  0.42881575,  0.42987878,\n",
       "        0.43647841,  0.44510282,  0.44651268,  0.46122915,  0.46555381,\n",
       "        0.47641075,  0.47824711,  0.47855132,  0.48073022,  0.48141074,\n",
       "        0.48235804,  0.52128873,  0.52898579,  0.53608751,  0.54615689,\n",
       "        0.54936746,  0.55355937,  0.56191844,  0.56269774,  0.57612021,\n",
       "        0.599667  ])"
      ]
     },
     "execution_count": 27,
     "metadata": {},
     "output_type": "execute_result"
    }
   ],
   "source": [
    "#利用插入位置，将数组中所有在这两个值之间的值提取出来：\n",
    "\n",
    "data[(data>0.4)&(data<0.6)]"
   ]
  },
  {
   "cell_type": "code",
   "execution_count": null,
   "metadata": {
    "collapsed": true
   },
   "outputs": [],
   "source": []
  }
 ],
 "metadata": {
  "kernelspec": {
   "display_name": "Python 3",
   "language": "python",
   "name": "python3"
  },
  "language_info": {
   "codemirror_mode": {
    "name": "ipython",
    "version": 3
   },
   "file_extension": ".py",
   "mimetype": "text/x-python",
   "name": "python",
   "nbconvert_exporter": "python",
   "pygments_lexer": "ipython3",
   "version": "3.6.4"
  }
 },
 "nbformat": 4,
 "nbformat_minor": 2
}
