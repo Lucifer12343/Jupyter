{
 "cells": [
  {
   "cell_type": "code",
   "execution_count": 1,
   "metadata": {},
   "outputs": [
    {
     "name": "stdout",
     "output_type": "stream",
     "text": [
      "2733065870928\n",
      "2733065871088\n"
     ]
    }
   ],
   "source": [
    "#Python会为每个出现的对象进行赋值，哪怕它们的值是一样的，例如：\n",
    "x = 500\n",
    "print(id(x))#id()函数用来获得变量的内存空间\n",
    "y = 500\n",
    "print(id(y))"
   ]
  },
  {
   "cell_type": "code",
   "execution_count": 2,
   "metadata": {},
   "outputs": [
    {
     "data": {
      "text/plain": [
       "True"
      ]
     },
     "execution_count": 2,
     "metadata": {},
     "output_type": "execute_result"
    }
   ],
   "source": [
    "#不过，为了提高内存利用效率，对于一些简单的对象，\n",
    "#如一些数值较小的int对象，Python采用了重用对象内存的办法：\n",
    "x = 2\n",
    "y = 2\n",
    "x is y"
   ]
  },
  {
   "cell_type": "code",
   "execution_count": 3,
   "metadata": {},
   "outputs": [
    {
     "name": "stdout",
     "output_type": "stream",
     "text": [
      "2733066420592\n",
      "2733066420592\n"
     ]
    }
   ],
   "source": [
    "#对于变量赋值的机制,x与y指向了同一个地址\n",
    "x = 500\n",
    "y = x\n",
    "print(id(x))\n",
    "print(id(y))"
   ]
  },
  {
   "cell_type": "code",
   "execution_count": 9,
   "metadata": {},
   "outputs": [
    {
     "name": "stdout",
     "output_type": "stream",
     "text": [
      "500\n",
      "2733066420496\n",
      "2733066420592\n"
     ]
    }
   ],
   "source": [
    "#如果其中一个值改变那么，它的地址也就改变了\n",
    "x =400\n",
    "print(y)\n",
    "print(id(x))\n",
    "print(id(y))"
   ]
  },
  {
   "cell_type": "code",
   "execution_count": 10,
   "metadata": {},
   "outputs": [
    {
     "name": "stdout",
     "output_type": "stream",
     "text": [
      "2733066420784\n"
     ]
    },
    {
     "data": {
      "text/plain": [
       "2733066420752"
      ]
     },
     "execution_count": 10,
     "metadata": {},
     "output_type": "execute_result"
    }
   ],
   "source": [
    "#可以看出每一个值的地址都是不一样的\n",
    "#常数也有临时分配的地址\n",
    "print(id(500))\n",
    "t = 500\n",
    "id(t)"
   ]
  },
  {
   "cell_type": "code",
   "execution_count": null,
   "metadata": {
    "collapsed": true
   },
   "outputs": [],
   "source": []
  }
 ],
 "metadata": {
  "kernelspec": {
   "display_name": "Python 3",
   "language": "python",
   "name": "python3"
  },
  "language_info": {
   "codemirror_mode": {
    "name": "ipython",
    "version": 3
   },
   "file_extension": ".py",
   "mimetype": "text/x-python",
   "name": "python",
   "nbconvert_exporter": "python",
   "pygments_lexer": "ipython3",
   "version": "3.6.4"
  }
 },
 "nbformat": 4,
 "nbformat_minor": 2
}
