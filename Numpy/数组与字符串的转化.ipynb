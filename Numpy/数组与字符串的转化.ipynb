{
 "cells": [
  {
   "cell_type": "code",
   "execution_count": 1,
   "metadata": {
    "collapsed": true
   },
   "outputs": [],
   "source": [
    "import numpy as np\n",
    "\n",
    "a = np.array([[1,2],\n",
    "           [3,4]], \n",
    "          dtype = np.uint8)"
   ]
  },
  {
   "cell_type": "code",
   "execution_count": 2,
   "metadata": {},
   "outputs": [
    {
     "data": {
      "text/plain": [
       "b'\\x01\\x02\\x03\\x04'"
      ]
     },
     "execution_count": 2,
     "metadata": {},
     "output_type": "execute_result"
    }
   ],
   "source": [
    "a.tostring()"
   ]
  },
  {
   "cell_type": "code",
   "execution_count": 3,
   "metadata": {},
   "outputs": [
    {
     "data": {
      "text/plain": [
       "array([1, 2, 3, 4], dtype=uint8)"
      ]
     },
     "execution_count": 3,
     "metadata": {},
     "output_type": "execute_result"
    }
   ],
   "source": [
    "#此时，返回的数组是一维的，需要重新设定维度：\n",
    "s = a.tostring()\n",
    "a = np.fromstring(s, \n",
    "                  dtype=np.uint8)\n",
    "a"
   ]
  },
  {
   "cell_type": "code",
   "execution_count": 4,
   "metadata": {},
   "outputs": [
    {
     "data": {
      "text/plain": [
       "array([[1, 2],\n",
       "       [3, 4]], dtype=uint8)"
      ]
     },
     "execution_count": 4,
     "metadata": {},
     "output_type": "execute_result"
    }
   ],
   "source": [
    "a.shape = 2,2\n",
    "a"
   ]
  },
  {
   "cell_type": "code",
   "execution_count": 13,
   "metadata": {},
   "outputs": [
    {
     "data": {
      "text/plain": [
       "array([[ 3.3,  2.2,  4.4,  5.5],\n",
       "       [ 6.6,  7.7,  8.8,  9.9]])"
      ]
     },
     "execution_count": 13,
     "metadata": {},
     "output_type": "execute_result"
    }
   ],
   "source": [
    "np.loadtxt(r'F:\\python\\Jupyter\\Numpy\\float.txt')"
   ]
  },
  {
   "cell_type": "code",
   "execution_count": 42,
   "metadata": {},
   "outputs": [],
   "source": [
    "np.savetxt(r'F:\\python\\Jupyter\\Numpy\\float1.txt',fmt ='%.3f',X=a,delimiter = '\\n',newline = '\\n')"
   ]
  },
  {
   "cell_type": "code",
   "execution_count": 24,
   "metadata": {},
   "outputs": [
    {
     "data": {
      "text/plain": [
       "array([[1, 2],\n",
       "       [3, 4]], dtype=uint8)"
      ]
     },
     "execution_count": 24,
     "metadata": {},
     "output_type": "execute_result"
    }
   ],
   "source": [
    "a"
   ]
  },
  {
   "cell_type": "raw",
   "metadata": {},
   "source": [
    "数组属性方法总结\n",
    "作用\n",
    "1\t基本属性\n",
    "a.dtype\t数组元素类型 float32,uint8,...\n",
    "a.shape\t数组形状 (m,n,o,...)\n",
    "a.size\t数组元素数\n",
    "a.itemsize\t每个元素占字节数\n",
    "a.nbytes\t所有元素占的字节\n",
    "a.ndim\t数组维度\n",
    "2\t形状相关\n",
    "a.flat\t所有元素的迭代器\n",
    "a.flatten()\t返回一个1维数组的复制\n",
    "a.ravel()\t返回一个1维数组，高效\n",
    "a.resize(new_size)\t改变形状\n",
    "a.swapaxes(axis1, axis2)\t交换两个维度的位置\n",
    "a.transpose(*axex)\t交换所有维度的位置\n",
    "a.T\t转置，a.transpose()\n",
    "a.squeeze()\t去除所有长度为1的维度\n",
    "3\t填充复制\n",
    "a.copy()\t返回数组的一个复制\n",
    "a.fill(value)\t将数组的元组设置为特定值\n",
    "4\t转化\n",
    "a.tolist()\t将数组转化为列表\n",
    "a.tostring()\t转换为字符串\n",
    "a.astype(dtype)\t转化为指定类型\n",
    "a.byteswap(False)\t转换大小字节序\n",
    "a.view(type_or_dtype)\t生成一个使用相同内存，但使用不同的表示方法的数组\n",
    "5\t复数\n",
    "a.imag\t虚部\n",
    "a.real\t实部\n",
    "a.conjugate()\t复共轭\n",
    "a.conj()\t复共轭（缩写）\n",
    "6\t保存\n",
    "a.dump(file)\t将二进制数据存在file中\n",
    "a.dump()\t将二进制数据表示成字符串\n",
    "a.tofile(fid, sep=\"\",format=\"%s\")\t格式化ASCⅡ码写入文件\n",
    "7\t查找排序\n",
    "a.nonzero()\t返回所有非零元素的索引\n",
    "a.sort(axis=-1)\t沿某个轴排序\n",
    "a.argsort(axis=-1)\t沿某个轴，返回按排序的索引\n",
    "a.searchsorted(b)\t返回将b中元素插入a后能保持有序的索引值\n",
    "8\t元素数学操作\n",
    "a.clip(low, high)\t将数值限制在一定范围内\n",
    "a.round(decimals=0)\t近似到指定精度\n",
    "a.cumsum(axis=None)\t累加和\n",
    "a.cumprod(axis=None)\t累乘积\n",
    "9\t约简操作\n",
    "a.sum(axis=None)\t求和\n",
    "a.prod(axis=None)\t求积\n",
    "a.min(axis=None)\t最小值\n",
    "a.max(axis=None)\t最大值\n",
    "a.argmin(axis=None)\t最小值索引\n",
    "a.argmax(axis=None)\t最大值索引\n",
    "a.ptp(axis=None)\t最大值减最小值\n",
    "a.mean(axis=None)\t平均值\n",
    "a.std(axis=None)\t标准差\n",
    "a.var(axis=None)\t方差\n",
    "a.any(axis=None)\t只要有一个不为0，返回真，逻辑或\n",
    "a.all(axis=None)\t所有都不为0，返回真，逻辑与"
   ]
  }
 ],
 "metadata": {
  "kernelspec": {
   "display_name": "Python 3",
   "language": "python",
   "name": "python3"
  },
  "language_info": {
   "codemirror_mode": {
    "name": "ipython",
    "version": 3
   },
   "file_extension": ".py",
   "mimetype": "text/x-python",
   "name": "python",
   "nbconvert_exporter": "python",
   "pygments_lexer": "ipython3",
   "version": "3.6.4"
  }
 },
 "nbformat": 4,
 "nbformat_minor": 2
}
